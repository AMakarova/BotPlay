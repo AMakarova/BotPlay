{
  "cells": [
    {
      "cell_type": "markdown",
      "metadata": {
        "id": "view-in-github",
        "colab_type": "text"
      },
      "source": [
        "<a href=\"https://colab.research.google.com/github/AMakarova/BotPlay/blob/main/Bot_Play_FM.ipynb\" target=\"_parent\"><img src=\"https://colab.research.google.com/assets/colab-badge.svg\" alt=\"Open In Colab\"/></a>"
      ]
    },
    {
      "cell_type": "markdown",
      "metadata": {
        "id": "rSCHHBL--hCB"
      },
      "source": [
        "# Set up the environment"
      ]
    },
    {
      "cell_type": "code",
      "source": [
        "from google.colab import drive\n",
        "drive.mount('/content/drive')\n",
        "\n",
        "%cd 'drive/MyDrive/The Movie Dataset'"
      ],
      "metadata": {
        "colab": {
          "base_uri": "https://localhost:8080/"
        },
        "id": "FFV3cFsTiuhq",
        "outputId": "f30a957f-4356-4dc8-9e43-ed47b3b1e753"
      },
      "execution_count": null,
      "outputs": [
        {
          "output_type": "stream",
          "name": "stdout",
          "text": [
            "Mounted at /content/drive\n",
            "/content/drive/MyDrive/The Movie Dataset\n"
          ]
        }
      ]
    },
    {
      "cell_type": "markdown",
      "metadata": {
        "id": "2JxsZI_y97Zu"
      },
      "source": [
        "# Build Dataset"
      ]
    },
    {
      "cell_type": "markdown",
      "metadata": {
        "id": "wgu50Xc2Y9ZF"
      },
      "source": [
        "## Process ratings"
      ]
    },
    {
      "cell_type": "code",
      "source": [
        "# import numpy as np\n",
        "import pandas as pd\n",
        "from tqdm import tqdm\n",
        "from typing import Optional\n",
        "from joblib import Memory\n",
        "import random"
      ],
      "metadata": {
        "id": "z5kGzCJtnrJA"
      },
      "execution_count": null,
      "outputs": []
    },
    {
      "cell_type": "code",
      "source": [
        "RATINGS_PATH = \"ratings.csv\"\n",
        "METADATA_PATH = \"movies_metadata.csv\"\n",
        "\n",
        "TOP_MOVIE_COUNT = 100\n",
        "MIN_RATINGS = 5\n",
        "\n",
        "cachedir = 'cache'\n",
        "memory = Memory(cachedir, verbose=0)"
      ],
      "metadata": {
        "id": "mx7oxF9MohoN"
      },
      "execution_count": null,
      "outputs": []
    },
    {
      "cell_type": "code",
      "source": [
        "def load_dataset(\n",
        "    path: str = RATINGS_PATH,\n",
        "    cols: Optional[list] = None,\n",
        "    ):\n",
        "  '''\n",
        "  Loads dataset as DataFrame, filters to specified list of columns\n",
        "  '''\n",
        "  dataset = pd.read_csv(path, low_memory=False)\n",
        "  if cols:\n",
        "    return dataset[cols]\n",
        "  else:\n",
        "    return dataset"
      ],
      "metadata": {
        "id": "Nj8hAsuAnrGK"
      },
      "execution_count": null,
      "outputs": []
    },
    {
      "cell_type": "code",
      "source": [
        "def print_frequencies(ratings: pd.DataFrame):\n",
        "  '''\n",
        "  Prints user and movie count\n",
        "  '''\n",
        "  users = ratings['userId'].unique().size\n",
        "  movies = ratings['movieId'].unique().size\n",
        "  print(f\"Dataset contains {users} unique users and {movies} unique movies\")"
      ],
      "metadata": {
        "id": "SYeRiNPbo4zi"
      },
      "execution_count": null,
      "outputs": []
    },
    {
      "cell_type": "code",
      "source": [
        "def subset_ratings(\n",
        "    ratings: pd.DataFrame, \n",
        "    top_movie_count: int = TOP_MOVIE_COUNT, \n",
        "    min_ratings: int = MIN_RATINGS\n",
        "    ) -> pd.DataFrame:\n",
        "  '''\n",
        "  Subsets ratings dataset\n",
        "  '''\n",
        "  movie_frequencies = ratings.groupby('movieId').count().sort_values('rating', ascending=False)\n",
        "  ratings = ratings[ratings['movieId'].isin(movie_frequencies.index[:top_movie_count])]\n",
        "                                            \n",
        "  user_frequencies = ratings[ratings['rating']>=4].groupby('userId').count()['rating']\n",
        "  ratings = ratings[ratings['userId'].isin(user_frequencies[user_frequencies>=min_ratings].index)]\n",
        "  return ratings"
      ],
      "metadata": {
        "id": "sA-tTxeFp7pl"
      },
      "execution_count": null,
      "outputs": []
    },
    {
      "cell_type": "code",
      "source": [
        "ratings = load_dataset(path=RATINGS_PATH, cols=['userId', 'movieId', 'rating'])\n",
        "print_frequencies(ratings)\n",
        "ratings = subset_ratings(ratings)\n",
        "print_frequencies(ratings)"
      ],
      "metadata": {
        "colab": {
          "base_uri": "https://localhost:8080/"
        },
        "id": "jwU2mCsmnq-I",
        "outputId": "f526b469-9b92-47d7-b49d-ae2ff69eceaa"
      },
      "execution_count": null,
      "outputs": [
        {
          "output_type": "stream",
          "name": "stdout",
          "text": [
            "Dataset contains 270896 unique users and 45115 unique movies\n",
            "Dataset contains 147208 unique users and 100 unique movies\n"
          ]
        }
      ]
    },
    {
      "cell_type": "code",
      "source": [],
      "metadata": {
        "id": "fd3PWZayu0fT"
      },
      "execution_count": null,
      "outputs": []
    }
  ],
  "metadata": {
    "colab": {
      "collapsed_sections": [],
      "machine_shape": "hm",
      "provenance": [],
      "authorship_tag": "ABX9TyO3yCotJfqjKAb0Nwkzoube",
      "include_colab_link": true
    },
    "kernelspec": {
      "display_name": "Python 3",
      "name": "python3"
    },
    "language_info": {
      "name": "python"
    }
  },
  "nbformat": 4,
  "nbformat_minor": 0
}